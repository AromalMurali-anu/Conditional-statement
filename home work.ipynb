{
 "cells": [
  {
   "cell_type": "markdown",
   "id": "c087a03b-1323-4196-8d26-efa7a2466e47",
   "metadata": {},
   "source": [
    "1.check if a number is positive/negitive(x)\n",
    "2.check if a numbre is positive,negitive,zero)(X)\n",
    "3.write a programe to chck number even or odd\n",
    "4.find the largest of two number \n",
    "5. print the number from 1to10 using for loop\n",
    "6.print even number between 1 and 10 using while loop\n",
    "7.write a loop thats break when number reaches 5\n",
    "8.check if a given year is leap\n",
    "9. check if a number is positive and then check if its even or odd\n",
    "10.print the sum of first natural numbers using while loop"
   ]
  },
  {
   "cell_type": "code",
   "execution_count": 2,
   "id": "ea774dad-8bb6-4d80-b1e4-5cbc3f521ac8",
   "metadata": {},
   "outputs": [
    {
     "name": "stdin",
     "output_type": "stream",
     "text": [
      "enter any number -1\n"
     ]
    },
    {
     "name": "stdout",
     "output_type": "stream",
     "text": [
      "negative\n"
     ]
    }
   ],
   "source": [
    "#check if a number is positive|negative \n",
    "num=int(input(\"enter any number\"))\n",
    "if num>=0:\n",
    "    print(\"positive\")\n",
    "else:\n",
    "    print(\"negative\")"
   ]
  },
  {
   "cell_type": "code",
   "execution_count": 3,
   "id": "78722db8-c5b7-4183-848c-a02484d710e7",
   "metadata": {},
   "outputs": [
    {
     "name": "stdin",
     "output_type": "stream",
     "text": [
      "enter any number -2\n"
     ]
    },
    {
     "name": "stdout",
     "output_type": "stream",
     "text": [
      "negitive\n"
     ]
    }
   ],
   "source": [
    "#check if a numbre is positive,negitive,zero\n",
    "num=int(input(\"enter any number\"))\n",
    "if num>0:\n",
    "    print(\"positive\")\n",
    "elif num<0:\n",
    "    print(\"negitive\")\n",
    "else:\n",
    "    print(\"zero\")"
   ]
  },
  {
   "cell_type": "code",
   "execution_count": 2,
   "id": "2b924245-4d92-4336-ba05-def1f4e77349",
   "metadata": {},
   "outputs": [
    {
     "name": "stdout",
     "output_type": "stream",
     "text": [
      "1\n",
      "2\n",
      "3\n",
      "4\n",
      "5\n",
      "6\n",
      "7\n",
      "8\n",
      "9\n",
      "10\n"
     ]
    }
   ],
   "source": [
    "#5. print the number from 1to10 using for loop\n",
    "for num in range(1,11):\n",
    "    print(num)\n"
   ]
  },
  {
   "cell_type": "code",
   "execution_count": 4,
   "id": "8c8eac38-3b66-4d62-af2f-6bf9d4b6f14b",
   "metadata": {},
   "outputs": [
    {
     "name": "stdout",
     "output_type": "stream",
     "text": [
      "1\n",
      "2\n",
      "3\n",
      "4\n"
     ]
    }
   ],
   "source": [
    "#write a loop thats break when number reaches 5\n",
    "for num in range(1,11):\n",
    "    if num==5:\n",
    "        break\n",
    "    print(num)\n",
    "    "
   ]
  },
  {
   "cell_type": "code",
   "execution_count": 23,
   "id": "344fd203-0459-46c4-9dd0-21171870f791",
   "metadata": {},
   "outputs": [
    {
     "name": "stdout",
     "output_type": "stream",
     "text": [
      "2\n",
      "4\n",
      "6\n",
      "8\n",
      "10\n"
     ]
    }
   ],
   "source": [
    "#.print even number between 1 and 10 using while loop\n",
    "num=1\n",
    "while num<=10:\n",
    "    if num%2==0:\n",
    "        print(num)\n",
    "    num+=1"
   ]
  },
  {
   "cell_type": "code",
   "execution_count": 26,
   "id": "98c8fa8c-1295-4f54-9e36-40463db2d642",
   "metadata": {},
   "outputs": [
    {
     "name": "stdin",
     "output_type": "stream",
     "text": [
      "enter a number 2\n"
     ]
    },
    {
     "name": "stdout",
     "output_type": "stream",
     "text": [
      "even\n"
     ]
    }
   ],
   "source": [
    "#.write a programe to chck number even or odd\n",
    "num=int(input(\"enter a number\"))   \n",
    "if num%2==0:\n",
    "    print(\"even\")\n",
    "else:\n",
    "    print(\"odd\")\n"
   ]
  },
  {
   "cell_type": "code",
   "execution_count": 28,
   "id": "c1a9fb97-e0d0-4d6d-956d-3776dcf6406d",
   "metadata": {},
   "outputs": [
    {
     "name": "stdin",
     "output_type": "stream",
     "text": [
      "enter a number 35\n",
      "enter a number 2\n"
     ]
    },
    {
     "name": "stdout",
     "output_type": "stream",
     "text": [
      "num is largest  number\n"
     ]
    }
   ],
   "source": [
    "#find the largest of two number \n",
    "num=int(input(\"enter a number\"))\n",
    "num2=int(input(\"enter a number\"))\n",
    "if num>num2:\n",
    "    print(\"num is largest  number\")\n",
    "else:\n",
    "    print(\"num2 is largest number\")"
   ]
  },
  {
   "cell_type": "code",
   "execution_count": 1,
   "id": "a1f142c3-0b1d-485d-9ab7-f0ec60a78cb5",
   "metadata": {},
   "outputs": [
    {
     "name": "stdin",
     "output_type": "stream",
     "text": [
      "enter a year 2025\n"
     ]
    },
    {
     "name": "stdout",
     "output_type": "stream",
     "text": [
      "its not a leap year\n"
     ]
    }
   ],
   "source": [
    "#check if a given year is leap\n",
    "y1=int(input(\"enter a year\"))\n",
    "if y1%4==0:\n",
    "    print(\"its a leap year\")\n",
    "else: \n",
    "    print(\"its not a leap year\")"
   ]
  },
  {
   "cell_type": "code",
   "execution_count": 6,
   "id": "f93e5213-e6f0-4e85-9fa1-45b3b0bd50c1",
   "metadata": {},
   "outputs": [
    {
     "name": "stdin",
     "output_type": "stream",
     "text": [
      "enter a number 4\n"
     ]
    },
    {
     "name": "stdout",
     "output_type": "stream",
     "text": [
      "positive and even\n"
     ]
    }
   ],
   "source": [
    "#check if a number is positive and then check if its even or odd\n",
    "num=int(input(\"enter a number\"))\n",
    "if num>0:\n",
    "    if num%2==0:\n",
    "        print(\"positive and even\")\n",
    "    else:\n",
    "        print(\"positive and odd\")\n",
    "else:\n",
    "    print(\"negitive\")"
   ]
  },
  {
   "cell_type": "code",
   "execution_count": 9,
   "id": "d538b47d-cb15-4052-8df4-6b00fec29c7b",
   "metadata": {},
   "outputs": [
    {
     "name": "stdout",
     "output_type": "stream",
     "text": [
      "55\n"
     ]
    }
   ],
   "source": [
    "#.print the sum of first 10 natural numbers using while \n",
    "count=0\n",
    "i=1\n",
    "while i<=10:\n",
    "    count+=i\n",
    "    i+=1\n",
    "print(count)"
   ]
  },
  {
   "cell_type": "code",
   "execution_count": null,
   "id": "f1e7c60e-0e1c-4724-8713-96763ef0e1ed",
   "metadata": {},
   "outputs": [],
   "source": []
  }
 ],
 "metadata": {
  "kernelspec": {
   "display_name": "Python [conda env:base] *",
   "language": "python",
   "name": "conda-base-py"
  },
  "language_info": {
   "codemirror_mode": {
    "name": "ipython",
    "version": 3
   },
   "file_extension": ".py",
   "mimetype": "text/x-python",
   "name": "python",
   "nbconvert_exporter": "python",
   "pygments_lexer": "ipython3",
   "version": "3.13.5"
  }
 },
 "nbformat": 4,
 "nbformat_minor": 5
}
