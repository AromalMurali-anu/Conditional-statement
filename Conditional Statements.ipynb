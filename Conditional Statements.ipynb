{
 "cells": [
  {
   "cell_type": "code",
   "execution_count": 2,
   "id": "304bd0c9-414c-44c3-99ee-cd78cf0ac581",
   "metadata": {},
   "outputs": [
    {
     "name": "stdout",
     "output_type": "stream",
     "text": [
      "you are eligible to vote\n"
     ]
    }
   ],
   "source": [
    "#simple if statement-condition true\n",
    "age=18\n",
    "if age>=18:\n",
    "    print(\"you are eligible to vote\")"
   ]
  },
  {
   "cell_type": "code",
   "execution_count": 3,
   "id": "0ebd617b-8b88-4b96-b3d2-2a3b39d649ed",
   "metadata": {},
   "outputs": [],
   "source": [
    "#simple if statement-condition false\n",
    "age=18\n",
    "if age>18:\n",
    "    print(\"you are eligible to vote\")"
   ]
  },
  {
   "cell_type": "code",
   "execution_count": 4,
   "id": "63692858-e25a-4e32-9a95-c0ec6f5cf1b2",
   "metadata": {},
   "outputs": [
    {
     "name": "stdout",
     "output_type": "stream",
     "text": [
      "you are not eligible to vote\n"
     ]
    }
   ],
   "source": [
    "#if else statement\n",
    "age=18\n",
    "if age>18:\n",
    "    print(\"you are eligible to vote\")\n",
    "else:\n",
    "    print(\"you are not eligible to vote\")"
   ]
  },
  {
   "cell_type": "code",
   "execution_count": 5,
   "id": "ef53f3fa-6986-4252-acc3-f98a59b4e33e",
   "metadata": {},
   "outputs": [
    {
     "name": "stdout",
     "output_type": "stream",
     "text": [
      "you are eligible to vote\n"
     ]
    }
   ],
   "source": [
    "age=25\n",
    "if age>18:\n",
    "    print(\"you are eligible to vote\")\n",
    "else:\n",
    "    print(\"you are not eligible to vote\")"
   ]
  },
  {
   "cell_type": "code",
   "execution_count": 6,
   "id": "9580facd-b8d7-4128-9399-3a39be4fb692",
   "metadata": {},
   "outputs": [
    {
     "name": "stdout",
     "output_type": "stream",
     "text": [
      "you are eligible to vote\n"
     ]
    }
   ],
   "source": [
    "age=18\n",
    "if age>=18:\n",
    "    print(\"you are eligible to vote\")\n",
    "else:\n",
    "    print(\"you are not eligible to vote\")"
   ]
  },
  {
   "cell_type": "code",
   "execution_count": 8,
   "id": "fe557ed9-294a-48fd-86e4-ba8994c7e10a",
   "metadata": {},
   "outputs": [
    {
     "name": "stdin",
     "output_type": "stream",
     "text": [
      "enter the age 11\n"
     ]
    },
    {
     "name": "stdout",
     "output_type": "stream",
     "text": [
      "you are not eligible to vote\n"
     ]
    }
   ],
   "source": [
    "#fetching input from user to check the condition\n",
    "age=int(input(\"enter the age\"))\n",
    "if age>=18:\n",
    "    print(\"you are eligible to vote\")\n",
    "else:\n",
    "    print(\"you are not eligible to vote\")"
   ]
  },
  {
   "cell_type": "code",
   "execution_count": 11,
   "id": "d74302ac-7fad-4bc3-ae2b-a5ae439f2909",
   "metadata": {},
   "outputs": [
    {
     "name": "stdin",
     "output_type": "stream",
     "text": [
      "enter you age 32\n"
     ]
    },
    {
     "name": "stdout",
     "output_type": "stream",
     "text": [
      "i am an adult\n"
     ]
    }
   ],
   "source": [
    "#elif ladder\n",
    "age=int(input(\"enter you age\"))\n",
    "if age<18:\n",
    "    print(\"i am minor\")\n",
    "elif age>60:\n",
    "    print(\"i am senior\")\n",
    "else:\n",
    "    print(\"i am an adult\")"
   ]
  },
  {
   "cell_type": "code",
   "execution_count": 16,
   "id": "72b1c252-3012-46b1-a31d-b157a75df91a",
   "metadata": {},
   "outputs": [
    {
     "name": "stdin",
     "output_type": "stream",
     "text": [
      "enter your mark 40\n"
     ]
    },
    {
     "name": "stdout",
     "output_type": "stream",
     "text": [
      "you are failed\n"
     ]
    }
   ],
   "source": [
    "mark=int(input(\"enter your mark\"))\n",
    "if mark>90:\n",
    "    print(\"A\")\n",
    "elif mark>75:\n",
    "    print(\"B\")\n",
    "elif mark>65:\n",
    "    print(\"C\")\n",
    "elif mark>55:\n",
    "    print(\"D\")\n",
    "else:\n",
    "    print(\"you are failed\")"
   ]
  },
  {
   "cell_type": "code",
   "execution_count": 17,
   "id": "88c6f115-b45b-4864-bcee-57564b9fc566",
   "metadata": {},
   "outputs": [
    {
     "name": "stdout",
     "output_type": "stream",
     "text": [
      "you can vote\n"
     ]
    }
   ],
   "source": [
    "#nested if \n",
    "age=20\n",
    "voter_id=True\n",
    "if age>=18:\n",
    "    if voter_id:\n",
    "        print(\"you can vote\")\n",
    "    else:\n",
    "        print(\"you need a voter_id to vote\")\n",
    "else:\n",
    "    (\"you are minor\")"
   ]
  },
  {
   "cell_type": "code",
   "execution_count": 34,
   "id": "8f3f7254-7a51-4cc5-af13-d101e00a24e0",
   "metadata": {},
   "outputs": [
    {
     "ename": "SyntaxError",
     "evalue": "invalid syntax (4060120365.py, line 3)",
     "output_type": "error",
     "traceback": [
      "\u001b[1;36m  Cell \u001b[1;32mIn[34], line 3\u001b[1;36m\u001b[0m\n\u001b[1;33m    voter_id=True:\u001b[0m\n\u001b[1;37m                 ^\u001b[0m\n\u001b[1;31mSyntaxError\u001b[0m\u001b[1;31m:\u001b[0m invalid syntax\n"
     ]
    }
   ],
   "source": [
    "age=int(input(\"enter your age\"))\n",
    "voter_id=bool( input(\"do have a voter_id\"))\n",
    "if age>=18:\n",
    "    if voter_id==True:\n",
    "        print(\"you can vote\")\n",
    "    else:\n",
    "        print(\"you need a voter_id to vote\")\n",
    "else:\n",
    "    (\"you are minor\")"
   ]
  },
  {
   "cell_type": "code",
   "execution_count": null,
   "id": "5934f5ec-60c8-4532-8aa6-0753a1727037",
   "metadata": {},
   "outputs": [
    {
     "name": "stdin",
     "output_type": "stream",
     "text": [
      "Enter your age:  12\n"
     ]
    }
   ],
   "source": [
    "age = int(input(\"Enter your age: \"))\n",
    "has_voter_id = input(\"Do you have a voter ID? (yes/no): \").strip().lower() == 'yes'\n",
    "\n",
    "if age >= 18:\n",
    "    # Inner check only runs if age condition is met\n",
    "    if has_voter_id:\n",
    "        print(\"You are eligible to vote.\")\n",
    "    else:\n",
    "        print(\"You need a voter ID to vote.\")\n",
    "else:\n",
    "    print(\"You are a minor and not eligible to vote.\")"
   ]
  },
  {
   "cell_type": "code",
   "execution_count": null,
   "id": "c57f5fbe-9743-4889-9524-c24c996d1426",
   "metadata": {},
   "outputs": [],
   "source": []
  }
 ],
 "metadata": {
  "kernelspec": {
   "display_name": "Python [conda env:base] *",
   "language": "python",
   "name": "conda-base-py"
  },
  "language_info": {
   "codemirror_mode": {
    "name": "ipython",
    "version": 3
   },
   "file_extension": ".py",
   "mimetype": "text/x-python",
   "name": "python",
   "nbconvert_exporter": "python",
   "pygments_lexer": "ipython3",
   "version": "3.13.5"
  }
 },
 "nbformat": 4,
 "nbformat_minor": 5
}
